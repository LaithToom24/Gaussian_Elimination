{
 "cells": [
  {
   "cell_type": "markdown",
   "metadata": {},
   "source": [
    "# _**Gaussian Elimination**_\n",
    "We should import `numpy` since it has Matrix functionality written in C. Python isn't a fast language, so this will help with time performance."
   ]
  },
  {
   "cell_type": "code",
   "execution_count": 854,
   "metadata": {},
   "outputs": [
    {
     "name": "stdout",
     "output_type": "stream",
     "text": [
      "[[12. 15. 20. 13. 13. 18. 10.]\n",
      " [13. 13. 11. 10. 12. 20. 16.]\n",
      " [14. 19. 18. 19. 12. 13. 11.]\n",
      " [13. 18. 18. 14. 18. 18. 14.]\n",
      " [13. 16. 20. 20. 14. 15. 17.]\n",
      " [11. 14. 18. 15. 14. 18. 19.]]\n"
     ]
    }
   ],
   "source": [
    "import numpy as np\n",
    "import pandas as pnds\n",
    "np.set_printoptions(suppress=True)\n",
    "rng = np.random.default_rng()\n",
    "\n",
    "min, max = 10, 20\n",
    "m, n = 6, 6\n",
    "A = rng.random((m, n+1))\n",
    "A = (max - min) * (A) + min\n",
    "A = np.round(A)\n",
    "# A[2][0:7] = 0\n",
    "# A[3][0:7] = 0\n",
    "print(A)"
   ]
  },
  {
   "cell_type": "markdown",
   "metadata": {},
   "source": [
    "## **Elementary Row Operations**\n",
    "For a matrix, operations can be performed on the rows of the matrix that do not change the solutions of the matrix. These are called _elementary row operations_, and we can implement each of these operations as a function. "
   ]
  },
  {
   "cell_type": "code",
   "execution_count": 855,
   "metadata": {},
   "outputs": [],
   "source": [
    "def swap_rows(matrix, rA, rB):\n",
    "    temp = [i for i in matrix[rA]]\n",
    "    matrix[rA] = matrix[rB]\n",
    "    matrix[rB] = temp\n",
    "\n",
    "def add_rows(matrix, rA, rB, modifier=1):\n",
    "    for i in range(0, len(matrix[rA])):\n",
    "        matrix[rA][i] = matrix[rA][i] + modifier*matrix[rB][i]\n",
    "\n",
    "def scale_row(matrix, r, a):\n",
    "    matrix[r] *= a"
   ]
  },
  {
   "cell_type": "markdown",
   "metadata": {},
   "source": [
    "We can test each of the functions."
   ]
  },
  {
   "cell_type": "code",
   "execution_count": 856,
   "metadata": {},
   "outputs": [],
   "source": [
    "# swap_rows(A, 0, 2)\n",
    "# print(f\"Swapping rows 1 and 3 \\n {A}\")\n",
    "\n",
    "# add_rows(A, 0, 2, modifier=-1)\n",
    "# print(f\"\\n Subtracting row 3 from row 1 \\n {A}\")\n",
    "\n",
    "# scale_row(A, 0, 2)\n",
    "# print(f\"\\n Scaling row 1 by a factor of 2 \\n {A}\")"
   ]
  },
  {
   "cell_type": "markdown",
   "metadata": {},
   "source": [
    "However, elementary operations alone aren't enough Gaussian Elimination. In order to solve a system of linear equations using Gaussian Elimination, we need an algorithm that will apply these operations in a manner formats the matrix into _reduced row echelon form_ (RREF). \n",
    "\n",
    "For a matrix in RREF, the numbers on the rightmost column are the soultion to the system."
   ]
  },
  {
   "cell_type": "code",
   "execution_count": 857,
   "metadata": {},
   "outputs": [
    {
     "name": "stdout",
     "output_type": "stream",
     "text": [
      "safe\n",
      "safe\n",
      "safe\n",
      "safe\n",
      "safe\n",
      "     0    1    2    3    4    5     6\n",
      "0  1.0  0.0  0.0  0.0  0.0  0.0 -2.15\n",
      "1  0.0  1.0  0.0  0.0  0.0  0.0 -0.06\n",
      "2 -0.0 -0.0  1.0  0.0  0.0  0.0 -1.22\n",
      "3  0.0  0.0  0.0  1.0  0.0  0.0  1.98\n",
      "4  0.0  0.0  0.0  0.0  1.0  0.0  0.38\n",
      "5  0.0  0.0  0.0  0.0  0.0  1.0  1.69\n"
     ]
    }
   ],
   "source": [
    "def solve_system(matrix):\n",
    "    m, n = matrix.shape\n",
    "    scale_row(matrix, 0, 1/matrix[0][0])\n",
    "    q = m-1\n",
    "    k = 0\n",
    "    while True:\n",
    "        if q < 0:\n",
    "            q = m-1\n",
    "            k += 1\n",
    "            # print(k, pnds.DataFrame(np.round(A, 1)))\n",
    "            if k < n-1:\n",
    "                if matrix[k][k] == 0:\n",
    "                    for i in range(k, m):\n",
    "                        if matrix[i][k] != 0:\n",
    "                            swap_rows(matrix, k, i)\n",
    "                            print(\"break\")\n",
    "                            break\n",
    "                else:\n",
    "                    print(\"safe\")\n",
    "                if matrix[k][k] == 0:\n",
    "                    k += 1\n",
    "                    if k >= n-1:\n",
    "                        break\n",
    "                else:\n",
    "                    scale_row(matrix, k, 1/matrix[k][k])\n",
    "            else:\n",
    "                break\n",
    "        if q == k:\n",
    "            q -= 1\n",
    "        add_rows(matrix, q, k, modifier=matrix[q][k]*(-1))\n",
    "        q -= 1\n",
    "\n",
    "solve_system(A)\n",
    "print(pnds.DataFrame(np.round(A, 2)))"
   ]
  }
 ],
 "metadata": {
  "kernelspec": {
   "display_name": "Python 3",
   "language": "python",
   "name": "python3"
  },
  "language_info": {
   "codemirror_mode": {
    "name": "ipython",
    "version": 3
   },
   "file_extension": ".py",
   "mimetype": "text/x-python",
   "name": "python",
   "nbconvert_exporter": "python",
   "pygments_lexer": "ipython3",
   "version": "3.12.0"
  }
 },
 "nbformat": 4,
 "nbformat_minor": 2
}
