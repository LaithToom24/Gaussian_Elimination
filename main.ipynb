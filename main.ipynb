{
 "cells": [
  {
   "cell_type": "markdown",
   "metadata": {},
   "source": [
    "# _**Gaussian Elimination**_\n",
    "We should import `numpy` since it has Matrix functionality written in C. Python isn't a fast language, so this will help with time performance."
   ]
  },
  {
   "cell_type": "code",
   "execution_count": 630,
   "metadata": {},
   "outputs": [
    {
     "name": "stdout",
     "output_type": "stream",
     "text": [
      "[[14. 17. 10. 13. 12. 11. 18.]\n",
      " [15. 18. 19. 15. 15. 10. 11.]\n",
      " [16. 13. 13. 17. 16. 15. 19.]\n",
      " [17. 15. 10. 13. 14. 19. 12.]\n",
      " [19. 16. 16. 12. 16. 15. 18.]\n",
      " [12. 17. 12. 11. 11. 16. 18.]]\n"
     ]
    }
   ],
   "source": [
    "import numpy as np\n",
    "import pandas as pnds\n",
    "np.set_printoptions(suppress=True)\n",
    "rng = np.random.default_rng()\n",
    "\n",
    "min, max = 10, 20\n",
    "m, n = 6, 6\n",
    "A = rng.random((m, n+1))\n",
    "A = (max - min) * (A) + min\n",
    "A = np.round(A)\n",
    "print(A)"
   ]
  },
  {
   "cell_type": "markdown",
   "metadata": {},
   "source": [
    "## **Elementary Row Operations**\n",
    "For a matrix, operations can be performed on the rows of the matrix that do not change the solutions of the matrix. These are called _elementary row operations_, and we can implement each of these operations as a function. "
   ]
  },
  {
   "cell_type": "code",
   "execution_count": 631,
   "metadata": {},
   "outputs": [],
   "source": [
    "def swap_rows(matrix, rA, rB):\n",
    "    temp = [i for i in matrix[rA]]\n",
    "    matrix[rA] = matrix[rB]\n",
    "    matrix[rB] = temp\n",
    "\n",
    "def add_rows(matrix, rA, rB, modifier=1):\n",
    "    for i in range(0, len(matrix[rA])):\n",
    "        matrix[rA][i] = matrix[rA][i] + modifier*matrix[rB][i]\n",
    "\n",
    "def scale_row(matrix, r, a):\n",
    "    matrix[r] *= a"
   ]
  },
  {
   "cell_type": "markdown",
   "metadata": {},
   "source": [
    "We can test each of the functions."
   ]
  },
  {
   "cell_type": "code",
   "execution_count": 632,
   "metadata": {},
   "outputs": [],
   "source": [
    "# swap_rows(A, 0, 2)\n",
    "# print(f\"Swapping rows 1 and 3 \\n {A}\")\n",
    "\n",
    "# add_rows(A, 0, 2, modifier=-1)\n",
    "# print(f\"\\n Subtracting row 3 from row 1 \\n {A}\")\n",
    "\n",
    "# scale_row(A, 0, 2)\n",
    "# print(f\"\\n Scaling row 1 by a factor of 2 \\n {A}\")"
   ]
  },
  {
   "cell_type": "markdown",
   "metadata": {},
   "source": [
    "However, elementary operations alone aren't enough Gaussian Elimination. In order to solve a system of linear equations using Gaussian Elimination, we need an algorithm that will apply these operations in a manner formats the matrix into _reduced row echelon form_ (RREF). \n",
    "\n",
    "For a matrix in RREF, the numbers on the rightmost column are the soultion to the system."
   ]
  },
  {
   "cell_type": "code",
   "execution_count": 633,
   "metadata": {},
   "outputs": [
    {
     "name": "stdout",
     "output_type": "stream",
     "text": [
      "     0    1    2    3    4    5      6\n",
      "0  1.0  0.0  0.0  0.0  0.0  0.0 -17.18\n",
      "1  0.0  1.0  0.0  0.0  0.0  0.0   5.90\n",
      "2  0.0  0.0  1.0  0.0  0.0  0.0  -8.44\n",
      "3 -0.0 -0.0 -0.0  1.0  0.0  0.0 -11.63\n",
      "4  0.0  0.0  0.0  0.0  1.0  0.0  34.05\n",
      "5  0.0  0.0  0.0  0.0  0.0  1.0  -1.34\n"
     ]
    }
   ],
   "source": [
    "def solve_system(matrix):\n",
    "    m, n = matrix.shape\n",
    "    scale_row(matrix, 0, 1/matrix[0][0])\n",
    "    q = m-1\n",
    "    k = 0\n",
    "    while True:\n",
    "        if q == k:\n",
    "            q -= 1\n",
    "        add_rows(matrix, q, k, modifier=matrix[q][k]*(-1))\n",
    "        q -= 1\n",
    "        if q < 0:\n",
    "            q = m-1\n",
    "            k += 1\n",
    "            # print(k, pnds.DataFrame(np.round(A, 2)))\n",
    "            if k < n-1:\n",
    "                scale_row(matrix, k, 1/matrix[k][k])\n",
    "            else:\n",
    "                break\n",
    "\n",
    "solve_system(A)\n",
    "print(pnds.DataFrame(np.round(A, 2)))"
   ]
  }
 ],
 "metadata": {
  "kernelspec": {
   "display_name": "Python 3",
   "language": "python",
   "name": "python3"
  },
  "language_info": {
   "codemirror_mode": {
    "name": "ipython",
    "version": 3
   },
   "file_extension": ".py",
   "mimetype": "text/x-python",
   "name": "python",
   "nbconvert_exporter": "python",
   "pygments_lexer": "ipython3",
   "version": "3.12.0"
  }
 },
 "nbformat": 4,
 "nbformat_minor": 2
}
